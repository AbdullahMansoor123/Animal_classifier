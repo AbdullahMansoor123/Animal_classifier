{
  "nbformat": 4,
  "nbformat_minor": 0,
  "metadata": {
    "colab": {
      "name": "Animal_Classifier.ipynb",
      "provenance": []
    },
    "kernelspec": {
      "name": "python3",
      "display_name": "Python 3"
    }
  },
  "cells": [
    {
      "cell_type": "code",
      "metadata": {
        "id": "DPBDMalEgl9J"
      },
      "source": [
        "from fastai.vision.all import*\r\n",
        "from fastai.vision.widgets import *"
      ],
      "execution_count": null,
      "outputs": []
    },
    {
      "cell_type": "markdown",
      "metadata": {
        "id": "W9gbegdLhaEW"
      },
      "source": [
        "# **Animal** **Classifier**"
      ]
    },
    {
      "cell_type": "markdown",
      "metadata": {
        "id": "jW33_dKIguyQ"
      },
      "source": [
        "The code can only classify three animal which includes \r\n",
        "1. Cheeta\r\n",
        "2. Lion\r\n",
        "3. Tiger"
      ]
    },
    {
      "cell_type": "code",
      "metadata": {
        "id": "miyKWehEjM6m"
      },
      "source": [
        "path=Path()\r\n",
        "learn_inf= load_learner(path/'animals.pkl')\r\n",
        "btn_upload = widgets.FileUpload()\r\n",
        "out_pl = widgets.Output()\r\n",
        "lbl_pred = widgets.Label()",
        "btn_run= widgets.Button(description='Image Classifier')"
      ],
      "execution_count": null,
      "outputs": []
    },
    {
      "cell_type": "code",
      "metadata": {
        "id": "GUH26w1ujMu2"
      },
      "source": [
        "#Adds function to newly created button\r\n",
        "def on_click_classify(change):\r\n",
        "    #creates img from binary (uploaded) data\r\n",
        "    img = PILImage.create(btn_upload.data[-1])\r\n",
        "    out_pl.clear_output()\r\n",
        "    with out_pl: display(img.to_thumb(128,128))\r\n",
        "    pred,pred_idx,probs = learn_inf.predict(img)\r\n",
        "    lbl_pred.value = f'Prediction: {pred}; Probability: {probs[pred_idx]:.04f}'"
      ],
      "execution_count": null,
      "outputs": []
    },
    {
      "cell_type": "code",
      "metadata": {
        "id": "u7nZTwrqkCEd"
      },
      "source": [
        "btn_upload.observe(on_click_classify, names=['data'])"
      ],
      "execution_count": null,
      "outputs": []
    },
    {
      "cell_type": "code",
      "metadata": {
        "id": "SvIHI4NmkB1F"
      },
      "source": [
        "VBox([widgets.Label('Select your Animals'), btn_upload, btn_run, out_pl, lbl_pred])"
      ],
      "execution_count": null,
      "outputs": []
    }
  ]
}
