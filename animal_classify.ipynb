{
 "cells": [
  {
   "cell_type": "code",
   "execution_count": null,
   "metadata": {
    "id": "DPBDMalEgl9J"
   },
   "outputs": [],
   "source": [
    "from fastai.vision.all import*\n",
    "from fastai.vision.widgets import *"
   ]
  },
  {
   "cell_type": "markdown",
   "metadata": {
    "id": "W9gbegdLhaEW"
   },
   "source": [
    "# **Animal** **Classifier**"
   ]
  },
  {
   "cell_type": "markdown",
   "metadata": {
    "id": "jW33_dKIguyQ"
   },
   "source": [
    "The code can only classify three animal which includes \n",
    "1. Cheeta\n",
    "2. Lion\n",
    "3. Tiger"
   ]
  },
  {
   "cell_type": "code",
   "execution_count": null,
   "metadata": {
    "id": "miyKWehEjM6m"
   },
   "outputs": [],
   "source": [
    "path=Path()\n",
    "learn_inf= load_learner('/content/gdrive/MyDrive/DL Projects/Project (pkl files)/animals.pkl')\n",
    "btn_upload = widgets.FileUpload()\n",
    "out_pl = widgets.Output()\n",
    "lbl_pred = widgets.Label()\n",
    "btn_run= widgets.Button(description='Image Classifier') "
   ]
  },
  {
   "cell_type": "code",
   "execution_count": null,
   "metadata": {
    "id": "GUH26w1ujMu2"
   },
   "outputs": [],
   "source": [
    "#Adds function to newly created button\n",
    "def on_click_classify(change):\n",
    "    #creates img from binary (uploaded) data\n",
    "    img = PILImage.create(btn_upload.data[-1])\n",
    "    out_pl.clear_output()\n",
    "    with out_pl: display(img.to_thumb(128,128))\n",
    "    pred,pred_idx,probs = learn_inf.predict(img)\n",
    "    lbl_pred.value = f'Prediction: {pred}; Probability: {probs[pred_idx]:.04f}'"
   ]
  },
  {
   "cell_type": "code",
   "execution_count": null,
   "metadata": {
    "id": "u7nZTwrqkCEd"
   },
   "outputs": [],
   "source": [
    "btn_upload.observe(on_click_classify, names=['data'])"
   ]
  },
  {
   "cell_type": "code",
   "execution_count": null,
   "metadata": {
    "id": "SvIHI4NmkB1F"
   },
   "outputs": [],
   "source": [
    "VBox([widgets.Label('Select your Animals'), btn_upload, btn_run, out_pl, lbl_pred])"
   ]
  }
 ],
 "metadata": {
  "colab": {
   "name": "Animal_Classifier.ipynb",
   "provenance": []
  },
  "kernelspec": {
   "display_name": "Python 3",
   "language": "python",
   "name": "python3"
  },
  "language_info": {
   "codemirror_mode": {
    "name": "ipython",
    "version": 3
   },
   "file_extension": ".py",
   "mimetype": "text/x-python",
   "name": "python",
   "nbconvert_exporter": "python",
   "pygments_lexer": "ipython3",
   "version": "3.8.5"
  }
 },
 "nbformat": 4,
 "nbformat_minor": 4
}
